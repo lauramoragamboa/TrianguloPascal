{
 "metadata": {
  "language_info": {
   "codemirror_mode": {
    "name": "ipython",
    "version": 3
   },
   "file_extension": ".py",
   "mimetype": "text/x-python",
   "name": "python",
   "nbconvert_exporter": "python",
   "pygments_lexer": "ipython3",
   "version": "3.8.3-final"
  },
  "orig_nbformat": 2,
  "kernelspec": {
   "name": "python3",
   "display_name": "Python 3.8.3 64-bit (conda)",
   "metadata": {
    "interpreter": {
     "hash": "cbfe4beadbdb253ff2673a5c8ea3800046ae087af7e527099a96fd9944d31644"
    }
   }
  }
 },
 "nbformat": 4,
 "nbformat_minor": 2,
 "cells": [
  {
   "cell_type": "code",
   "execution_count": 1,
   "metadata": {},
   "outputs": [],
   "source": [
    "def Factorial(n):\n",
    "    \"Esta función calcula el factorial de un número por recurrencia\"\n",
    "    if n == 0:      #se establece la primera condición, si n=0.\n",
    "        f = 1\n",
    "    else:           #Se establece la segunda condición ara números mayores que uno.\n",
    "        f = n * Factorial(n - 1)  #Se aplica la fórmula para un factorial por recurrencia.\n",
    "    return f\n",
    "\n",
    "def Binomial(n,k):  #En esta función n<k\n",
    "    \"Esta función calcula el coeficiente binomial de dos números\"\n",
    "    b= Factorial(n)/(Factorial(k)*Factorial(n-k))  #Fórmula para calcular el coeficiente binomial.\n",
    "    return b"
   ]
  },
  {
   "cell_type": "code",
   "execution_count": null,
   "metadata": {},
   "outputs": [],
   "source": [
    "#El resultado de esta función debe ser el triángulo completo en un archivo .txt, la idea es que cada línea que el código entrega se vaya escribiendo en el archivo para, al final, tener la figura del triángulo.\r\n",
    "\r\n",
    "def TrianguloPascal(n):\r\n",
    "    \"Esta función genera un triángulo de Pascal en un archivo .txt\"\r\n",
    "    \r\n",
    "    #archivo= open(\"TriánguloPascal2.txt\", \"w\") #Abro el archivo de texto en que se guardará el triángulo.\r\n",
    "\r\n",
    "    P=[] #Aquí se almacena cada linea del triángulo.\r\n",
    "    \r\n",
    "#CICLO QUE VA A REALIZAR EL BINOMIAL:\r\n",
    "    #Defino una condición para n=0:\r\n",
    "    if n<=0:\r\n",
    "        print(\"El entero debe ser mayor igual que 1\")\r\n",
    "\r\n",
    "\r\n",
    "    #Defino la función para los otros n:\r\n",
    "    else:\r\n",
    "        k=list(range(n))   #Defino k porque es la que varía para cada elemento de la misma línea.\r\n",
    "        #N=list(range(n))\r\n",
    "        \r\n",
    "        for i in range(n):\r\n",
    "            elemento = Binomial((n-1),k[i])  #¿cÓMO INTRODUCIR UN NUEVO CICLO PARA VARIAR n?\r\n",
    "            P.append(elemento)  #Agrego cada elemento a la lista de Líneas\r\n",
    "\r\n",
    "\r\n",
    "        #archivo.write(str(P)+'\\n')  #Escribe cada línea almacenada en P en el archivo .txt.\r\n",
    "        print(P)\r\n",
    "    #archivo.close()   #Se cierra el archivo con el triángulo finalizado.\r\n",
    "\r\n",
    "    \r\n",
    "\r\n",
    "#PROBANDO LA FUNCIÓN TriánguloPascal(n):\r\n",
    "TrianguloPascal(3)"
   ]
  }
 ]
}